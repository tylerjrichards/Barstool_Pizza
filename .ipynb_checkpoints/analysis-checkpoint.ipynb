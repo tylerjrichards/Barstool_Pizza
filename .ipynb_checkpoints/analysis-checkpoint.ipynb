{
 "cells": [
  {
   "cell_type": "code",
   "execution_count": 1,
   "metadata": {},
   "outputs": [],
   "source": [
    "#ideas: visualize in a cool way (geography? kepler?) \n",
    "#gt information about target best neighborhoods\n",
    "#textgenrnn on pizza names\n",
    "#\n",
    "import pandas as pd\n",
    "import seaborn as sns\n",
    "import matplotlib.pyplot as plt\n"
   ]
  },
  {
   "cell_type": "code",
   "execution_count": 2,
   "metadata": {},
   "outputs": [],
   "source": [
    "pizza_df = pd.read_csv(\"pizza_data.csv\")"
   ]
  },
  {
   "cell_type": "code",
   "execution_count": 3,
   "metadata": {},
   "outputs": [],
   "source": [
    "sns.set()"
   ]
  },
  {
   "cell_type": "code",
   "execution_count": 4,
   "metadata": {},
   "outputs": [
    {
     "data": {
      "text/plain": [
       "Index(['_distance', 'address1', 'address2', 'categories', 'city', 'country',\n",
       "       'createdAt', 'deleted', 'featuredMedia.__t', 'featuredMedia.__v',\n",
       "       'featuredMedia._id', 'featuredMedia.assetId', 'featuredMedia.createdAt',\n",
       "       'featuredMedia.deleted', 'featuredMedia.id',\n",
       "       'featuredMedia.metadata.aspectRatio', 'featuredMedia.metadata.duration',\n",
       "       'featuredMedia.metadata.frameRate', 'featuredMedia.metadata.resolution',\n",
       "       'featuredMedia.modifiedAt', 'featuredMedia.playbackId',\n",
       "       'featuredMedia.reviewId', 'featuredMedia.sourceUrl',\n",
       "       'featuredMedia.status', 'featuredMedia.streams.hls',\n",
       "       'featuredMedia.streams.mp4', 'featuredMedia.thumbnails.large',\n",
       "       'featuredMedia.thumbnails.medium', 'featuredMedia.thumbnails.small',\n",
       "       'featuredMedia.type', 'featuredMedia.user', 'id', 'imageUrl',\n",
       "       'loc.coordinates', 'loc.type', 'modifiedAt', 'name', 'openHours',\n",
       "       'orderProvider', 'orderProvider.checkoutUrl',\n",
       "       'orderProvider.internalId', 'orderProvider.logo', 'orderProvider.name',\n",
       "       'phoneNumber', 'photos', 'placeId', 'priceLevel', 'providerRating',\n",
       "       'providerReviewCount', 'providerTransactions', 'providerUrl',\n",
       "       'refreshDate', 'reviewStats.all.averageScore', 'reviewStats.all.count',\n",
       "       'reviewStats.all.totalScore', 'reviewStats.community.averageScore',\n",
       "       'reviewStats.community.count', 'reviewStats.community.totalScore',\n",
       "       'reviewStats.critic.averageScore', 'reviewStats.critic.count',\n",
       "       'reviewStats.critic.totalScore', 'reviewStats.dave.averageScore',\n",
       "       'reviewStats.dave.count', 'reviewStats.dave.totalScore', 'slug',\n",
       "       'state', 'timeZone', 'type', 'zip', 'address_total', 'accuracy',\n",
       "       'formatted_address', 'google_place_id', 'input_string', 'latitude',\n",
       "       'longitude', 'number_of_results', 'postcode', 'response.error_message',\n",
       "       'response.results', 'response.status', 'status', 'type.1',\n",
       "       'string_concat', 'dave_score_int'],\n",
       "      dtype='object')"
      ]
     },
     "execution_count": 4,
     "metadata": {},
     "output_type": "execute_result"
    }
   ],
   "source": [
    "pizza_df.columns"
   ]
  },
  {
   "cell_type": "code",
   "execution_count": 5,
   "metadata": {},
   "outputs": [],
   "source": [
    "types = ['reviewStats.dave.averageScore', 'reviewStats.community.averageScore']"
   ]
  },
  {
   "cell_type": "markdown",
   "metadata": {},
   "source": [
    "in some way, we can say that there is a true distribution of pizza quality in NYC that follows some statistical distribution. Each individual's sample score carries with them their perceived pizza quality distribution, and both the aggregated quality scores and a single individual's score across location can tell us about this distribution. Do people average their scores at 5 and then deviate on quality? Is this distribution normal? What does a 7 really mean?  \n",
    "What we can do here is estimate what is called the pdf of the distribution of the data from a small number of samples using a nonparametric method called kernel density estimation. Here's the KDE for both the "
   ]
  },
  {
   "cell_type": "code",
   "execution_count": 15,
   "metadata": {},
   "outputs": [
    {
     "name": "stderr",
     "output_type": "stream",
     "text": [
      "/usr/local/lib/python3.7/site-packages/scipy/stats/stats.py:1713: FutureWarning: Using a non-tuple sequence for multidimensional indexing is deprecated; use `arr[tuple(seq)]` instead of `arr[seq]`. In the future this will be interpreted as an array index, `arr[np.array(seq)]`, which will result either in an error or a different result.\n",
      "  return np.add.reduce(sorted[indexer] * weights, axis=axis) / sumval\n"
     ]
    },
    {
     "data": {
      "text/plain": [
       "Text(0,0.5,'Propensity')"
      ]
     },
     "execution_count": 15,
     "metadata": {},
     "output_type": "execute_result"
    },
    {
     "data": {
      "image/png": "[encoded data removed]",
      "text/plain": [
       "<Figure size 432x288 with 1 Axes>"
      ]
     },
     "metadata": {},
     "output_type": "display_data"
    }
   ],
   "source": [
    "#what we want to do is es\n",
    "fig, ax = plt.subplots()\n",
    "import matplotlib.patches as mpatches\n",
    "import matplotlib.pyplot as plt\n",
    "\n",
    "orange_patch = mpatches.Patch(color='orange', label='Community')\n",
    "blue_patch = mpatches.Patch(color='lightskyblue', label='Dave')\n",
    "\n",
    "\n",
    "\n",
    "for col in types:\n",
    "    sns.distplot(pizza_df[col], ax=ax)\n",
    "handles, labels = ax.get_legend_handles_labels()\n",
    "ax.legend(handles, labels)\n",
    "plt.legend(handles=[orange_patch, blue_patch])\n",
    "plt.xlabel(\"Pizza Review Scores\")\n",
    "plt.ylabel(\"Propensity\")"
   ]
  },
  {
   "cell_type": "code",
   "execution_count": 11,
   "metadata": {},
   "outputs": [
    {
     "data": {
      "text/html": [
       "<div>\n",
       "<style scoped>\n",
       "    .dataframe tbody tr th:only-of-type {\n",
       "        vertical-align: middle;\n",
       "    }\n",
       "\n",
       "    .dataframe tbody tr th {\n",
       "        vertical-align: top;\n",
       "    }\n",
       "\n",
       "    .dataframe thead th {\n",
       "        text-align: right;\n",
       "    }\n",
       "</style>\n",
       "<table border=\"1\" class=\"dataframe\">\n",
       "  <thead>\n",
       "    <tr style=\"text-align: right;\">\n",
       "      <th></th>\n",
       "      <th>_distance</th>\n",
       "      <th>address1</th>\n",
       "      <th>address2</th>\n",
       "      <th>categories</th>\n",
       "      <th>city</th>\n",
       "      <th>country</th>\n",
       "      <th>createdAt</th>\n",
       "      <th>deleted</th>\n",
       "      <th>featuredMedia.__t</th>\n",
       "      <th>featuredMedia.__v</th>\n",
       "      <th>...</th>\n",
       "      <th>input_string</th>\n",
       "      <th>latitude</th>\n",
       "      <th>longitude</th>\n",
       "      <th>number_of_results</th>\n",
       "      <th>postcode</th>\n",
       "      <th>response.error_message</th>\n",
       "      <th>response.results</th>\n",
       "      <th>response.status</th>\n",
       "      <th>status</th>\n",
       "      <th>type.1</th>\n",
       "    </tr>\n",
       "  </thead>\n",
       "  <tbody>\n",
       "    <tr>\n",
       "      <th>65</th>\n",
       "      <td>350196.796139</td>\n",
       "      <td>1045 Goss Ave</td>\n",
       "      <td>NaN</td>\n",
       "      <td>[{'alias': 'pizza', 'title': 'Pizza'}, {'alias...</td>\n",
       "      <td>Louisville</td>\n",
       "      <td>US</td>\n",
       "      <td>2018-03-23T17:41:43.980Z</td>\n",
       "      <td>False</td>\n",
       "      <td>NaN</td>\n",
       "      <td>NaN</td>\n",
       "      <td>...</td>\n",
       "      <td>1045 Goss Ave, Louisville,US</td>\n",
       "      <td>38.227671</td>\n",
       "      <td>-85.735416</td>\n",
       "      <td>1</td>\n",
       "      <td>40217.0</td>\n",
       "      <td>NaN</td>\n",
       "      <td>[{'address_components': [{'long_name': '1045',...</td>\n",
       "      <td>OK</td>\n",
       "      <td>OK</td>\n",
       "      <td>premise</td>\n",
       "    </tr>\n",
       "    <tr>\n",
       "      <th>66</th>\n",
       "      <td>351224.954932</td>\n",
       "      <td>700 Central Ave</td>\n",
       "      <td>NaN</td>\n",
       "      <td>[{'alias': 'stadiumsarenas', 'title': 'Stadium...</td>\n",
       "      <td>Louisville</td>\n",
       "      <td>US</td>\n",
       "      <td>2018-11-02T19:01:56.538Z</td>\n",
       "      <td>False</td>\n",
       "      <td>NaN</td>\n",
       "      <td>NaN</td>\n",
       "      <td>...</td>\n",
       "      <td>700 Central Ave, Louisville,US</td>\n",
       "      <td>38.204247</td>\n",
       "      <td>-85.771631</td>\n",
       "      <td>1</td>\n",
       "      <td>40215.0</td>\n",
       "      <td>NaN</td>\n",
       "      <td>[{'address_components': [{'long_name': '700', ...</td>\n",
       "      <td>OK</td>\n",
       "      <td>OK</td>\n",
       "      <td>premise</td>\n",
       "    </tr>\n",
       "    <tr>\n",
       "      <th>133</th>\n",
       "      <td>517332.178513</td>\n",
       "      <td>15 William St</td>\n",
       "      <td>NaN</td>\n",
       "      <td>[{'alias': 'breakfast_brunch', 'title': 'Break...</td>\n",
       "      <td>New York</td>\n",
       "      <td>US</td>\n",
       "      <td>2018-03-23T17:44:41.383Z</td>\n",
       "      <td>False</td>\n",
       "      <td>NaN</td>\n",
       "      <td>NaN</td>\n",
       "      <td>...</td>\n",
       "      <td>15 William St, New York,US</td>\n",
       "      <td>40.705371</td>\n",
       "      <td>-74.010072</td>\n",
       "      <td>1</td>\n",
       "      <td>10005.0</td>\n",
       "      <td>NaN</td>\n",
       "      <td>[{'address_components': [{'long_name': '15', '...</td>\n",
       "      <td>OK</td>\n",
       "      <td>OK</td>\n",
       "      <td>street_address</td>\n",
       "    </tr>\n",
       "    <tr>\n",
       "      <th>249</th>\n",
       "      <td>404648.989044</td>\n",
       "      <td>153 Ave C</td>\n",
       "      <td>NaN</td>\n",
       "      <td>[{'alias': 'pizza', 'title': 'Pizza'}]</td>\n",
       "      <td>New York</td>\n",
       "      <td>US</td>\n",
       "      <td>2018-03-23T17:43:07.666Z</td>\n",
       "      <td>False</td>\n",
       "      <td>NaN</td>\n",
       "      <td>NaN</td>\n",
       "      <td>...</td>\n",
       "      <td>153 Ave C, New York,US</td>\n",
       "      <td>40.725710</td>\n",
       "      <td>-73.977964</td>\n",
       "      <td>1</td>\n",
       "      <td>10009.0</td>\n",
       "      <td>NaN</td>\n",
       "      <td>[{'address_components': [{'long_name': '153', ...</td>\n",
       "      <td>OK</td>\n",
       "      <td>OK</td>\n",
       "      <td>premise</td>\n",
       "    </tr>\n",
       "    <tr>\n",
       "      <th>451</th>\n",
       "      <td>115101.541775</td>\n",
       "      <td>234 W 31st St</td>\n",
       "      <td>NaN</td>\n",
       "      <td>[{'alias': 'trainstations', 'title': 'Train St...</td>\n",
       "      <td>New York</td>\n",
       "      <td>US</td>\n",
       "      <td>2018-10-25T21:19:28.467Z</td>\n",
       "      <td>False</td>\n",
       "      <td>NaN</td>\n",
       "      <td>NaN</td>\n",
       "      <td>...</td>\n",
       "      <td>234 W 31st St, New York,US</td>\n",
       "      <td>40.749647</td>\n",
       "      <td>-73.993399</td>\n",
       "      <td>1</td>\n",
       "      <td>10001.0</td>\n",
       "      <td>NaN</td>\n",
       "      <td>[{'address_components': [{'long_name': '234', ...</td>\n",
       "      <td>OK</td>\n",
       "      <td>OK</td>\n",
       "      <td>street_address</td>\n",
       "    </tr>\n",
       "  </tbody>\n",
       "</table>\n",
       "<p>5 rows × 83 columns</p>\n",
       "</div>"
      ],
      "text/plain": [
       "         _distance         address1 address2  \\\n",
       "65   350196.796139    1045 Goss Ave      NaN   \n",
       "66   351224.954932  700 Central Ave      NaN   \n",
       "133  517332.178513    15 William St      NaN   \n",
       "249  404648.989044        153 Ave C      NaN   \n",
       "451  115101.541775    234 W 31st St      NaN   \n",
       "\n",
       "                                            categories        city country  \\\n",
       "65   [{'alias': 'pizza', 'title': 'Pizza'}, {'alias...  Louisville      US   \n",
       "66   [{'alias': 'stadiumsarenas', 'title': 'Stadium...  Louisville      US   \n",
       "133  [{'alias': 'breakfast_brunch', 'title': 'Break...    New York      US   \n",
       "249             [{'alias': 'pizza', 'title': 'Pizza'}]    New York      US   \n",
       "451  [{'alias': 'trainstations', 'title': 'Train St...    New York      US   \n",
       "\n",
       "                    createdAt  deleted  featuredMedia.__t  featuredMedia.__v  \\\n",
       "65   2018-03-23T17:41:43.980Z    False                NaN                NaN   \n",
       "66   2018-11-02T19:01:56.538Z    False                NaN                NaN   \n",
       "133  2018-03-23T17:44:41.383Z    False                NaN                NaN   \n",
       "249  2018-03-23T17:43:07.666Z    False                NaN                NaN   \n",
       "451  2018-10-25T21:19:28.467Z    False                NaN                NaN   \n",
       "\n",
       "          ...                          input_string   latitude  longitude  \\\n",
       "65        ...          1045 Goss Ave, Louisville,US  38.227671 -85.735416   \n",
       "66        ...        700 Central Ave, Louisville,US  38.204247 -85.771631   \n",
       "133       ...            15 William St, New York,US  40.705371 -74.010072   \n",
       "249       ...                153 Ave C, New York,US  40.725710 -73.977964   \n",
       "451       ...            234 W 31st St, New York,US  40.749647 -73.993399   \n",
       "\n",
       "     number_of_results postcode response.error_message  \\\n",
       "65                   1  40217.0                    NaN   \n",
       "66                   1  40215.0                    NaN   \n",
       "133                  1  10005.0                    NaN   \n",
       "249                  1  10009.0                    NaN   \n",
       "451                  1  10001.0                    NaN   \n",
       "\n",
       "                                      response.results  response.status  \\\n",
       "65   [{'address_components': [{'long_name': '1045',...               OK   \n",
       "66   [{'address_components': [{'long_name': '700', ...               OK   \n",
       "133  [{'address_components': [{'long_name': '15', '...               OK   \n",
       "249  [{'address_components': [{'long_name': '153', ...               OK   \n",
       "451  [{'address_components': [{'long_name': '234', ...               OK   \n",
       "\n",
       "    status          type.1  \n",
       "65      OK         premise  \n",
       "66      OK         premise  \n",
       "133     OK  street_address  \n",
       "249     OK         premise  \n",
       "451     OK  street_address  \n",
       "\n",
       "[5 rows x 83 columns]"
      ]
     },
     "execution_count": 11,
     "metadata": {},
     "output_type": "execute_result"
    }
   ],
   "source": [
    "pizza_df[pizza_df['reviewStats.dave.averageScore']<1]"
   ]
  },
  {
   "cell_type": "code",
   "execution_count": null,
   "metadata": {},
   "outputs": [],
   "source": []
  },
  {
   "cell_type": "code",
   "execution_count": 20,
   "metadata": {},
   "outputs": [
    {
     "ename": "NameError",
     "evalue": "name 'requests' is not defined",
     "output_type": "error",
     "traceback": [
      "\u001b[0;31m---------------------------------------------------------------------------\u001b[0m",
      "\u001b[0;31mNameError\u001b[0m                                 Traceback (most recent call last)",
      "\u001b[0;32m<ipython-input-20-6a0de06f3346>\u001b[0m in \u001b[0;36m<module>\u001b[0;34m()\u001b[0m\n\u001b[0;32m----> 1\u001b[0;31m \u001b[0mget_google_results\u001b[0m\u001b[0;34m(\u001b[0m\u001b[0maddress\u001b[0m\u001b[0;34m=\u001b[0m\u001b[0;34m\"927 Jade Forest Ave, 32828 Orlando FL\"\u001b[0m\u001b[0;34m,\u001b[0m \u001b[0mapi_key\u001b[0m\u001b[0;34m=\u001b[0m\u001b[0mapi_key\u001b[0m\u001b[0;34m)\u001b[0m\u001b[0;34m\u001b[0m\u001b[0m\n\u001b[0m",
      "\u001b[0;32m<ipython-input-18-a79795f1f13a>\u001b[0m in \u001b[0;36mget_google_results\u001b[0;34m(address, api_key, return_full_response)\u001b[0m\n\u001b[1;32m      6\u001b[0m \u001b[0;34m\u001b[0m\u001b[0m\n\u001b[1;32m      7\u001b[0m     \u001b[0;31m# Ping google for the reuslts:\u001b[0m\u001b[0;34m\u001b[0m\u001b[0;34m\u001b[0m\u001b[0m\n\u001b[0;32m----> 8\u001b[0;31m     \u001b[0mresults\u001b[0m \u001b[0;34m=\u001b[0m \u001b[0mrequests\u001b[0m\u001b[0;34m.\u001b[0m\u001b[0mget\u001b[0m\u001b[0;34m(\u001b[0m\u001b[0mgeocode_url\u001b[0m\u001b[0;34m)\u001b[0m\u001b[0;34m\u001b[0m\u001b[0m\n\u001b[0m\u001b[1;32m      9\u001b[0m     \u001b[0;31m# Results will be in JSON format - convert to dict using requests functionality\u001b[0m\u001b[0;34m\u001b[0m\u001b[0;34m\u001b[0m\u001b[0m\n\u001b[1;32m     10\u001b[0m     \u001b[0mresults\u001b[0m \u001b[0;34m=\u001b[0m \u001b[0mresults\u001b[0m\u001b[0;34m.\u001b[0m\u001b[0mjson\u001b[0m\u001b[0;34m(\u001b[0m\u001b[0;34m)\u001b[0m\u001b[0;34m\u001b[0m\u001b[0m\n",
      "\u001b[0;31mNameError\u001b[0m: name 'requests' is not defined"
     ]
    }
   ],
   "source": []
  },
  {
   "cell_type": "code",
   "execution_count": null,
   "metadata": {},
   "outputs": [],
   "source": [
    "ax = sns.distplot(pizza_df['reviewStats.dave.averageScore'], bins=30)\n",
    "ax.set(xlabel=\"Dave's Score\", ylabel='Propensity')\n",
    "\n",
    "plt.show()"
   ]
  },
  {
   "cell_type": "code",
   "execution_count": 9,
   "metadata": {},
   "outputs": [],
   "source": [
    "import math"
   ]
  },
  {
   "cell_type": "code",
   "execution_count": 14,
   "metadata": {},
   "outputs": [
    {
     "data": {
      "text/plain": [
       "1.7991706669659808"
      ]
     },
     "execution_count": 14,
     "metadata": {},
     "output_type": "execute_result"
    }
   ],
   "source": [
    "pizza_df['reviewStats.dave.averageScore'].median()\n",
    "pizza_df['reviewStats.dave.averageScore'].std()\n"
   ]
  },
  {
   "cell_type": "code",
   "execution_count": null,
   "metadata": {},
   "outputs": [],
   "source": [
    "pizza_df['reviewStats.dave.averageScore']"
   ]
  },
  {
   "cell_type": "code",
   "execution_count": 7,
   "metadata": {},
   "outputs": [
    {
     "data": {
      "text/plain": [
       "2018-04-16T23:04:04.931Z    3\n",
       "2018-04-16T19:58:10.809Z    3\n",
       "2018-04-16T19:58:08.966Z    2\n",
       "2018-04-16T19:58:10.155Z    2\n",
       "2018-04-16T20:16:10.583Z    2\n",
       "2018-08-07T16:32:04.916Z    2\n",
       "2018-08-07T16:32:04.920Z    2\n",
       "2018-04-16T21:44:06.936Z    2\n",
       "2018-04-16T19:58:10.273Z    2\n",
       "2018-07-23T14:59:25.859Z    2\n",
       "2018-04-16T19:58:09.147Z    2\n",
       "2018-04-16T19:58:11.109Z    2\n",
       "2018-04-16T19:58:11.468Z    2\n",
       "2018-04-16T21:13:44.996Z    2\n",
       "2018-04-16T19:58:11.168Z    2\n",
       "2018-03-23T17:41:28.743Z    1\n",
       "2018-03-23T17:42:54.467Z    1\n",
       "2018-03-23T17:48:25.607Z    1\n",
       "2018-03-23T17:42:56.649Z    1\n",
       "2018-06-27T14:03:44.848Z    1\n",
       "2018-07-19T21:38:37.318Z    1\n",
       "2018-03-23T17:47:24.511Z    1\n",
       "2018-04-16T20:16:10.311Z    1\n",
       "2018-04-16T19:58:08.318Z    1\n",
       "2018-04-16T22:12:08.356Z    1\n",
       "2018-11-02T19:01:56.538Z    1\n",
       "2018-03-23T17:42:16.989Z    1\n",
       "2018-03-23T17:44:56.931Z    1\n",
       "2018-04-16T19:58:09.174Z    1\n",
       "2018-05-03T02:27:06.318Z    1\n",
       "                           ..\n",
       "2018-03-23T17:41:17.701Z    1\n",
       "2018-04-16T19:58:11.186Z    1\n",
       "2018-03-23T17:48:11.408Z    1\n",
       "2018-03-23T17:45:43.085Z    1\n",
       "2019-01-15T20:45:58.514Z    1\n",
       "2018-04-16T22:40:05.499Z    1\n",
       "2018-04-16T21:39:58.359Z    1\n",
       "2018-03-23T17:43:41.139Z    1\n",
       "2018-03-23T17:44:54.572Z    1\n",
       "2018-03-23T17:39:57.496Z    1\n",
       "2018-03-23T17:49:11.503Z    1\n",
       "2018-03-23T17:45:36.802Z    1\n",
       "2018-03-23T17:42:01.387Z    1\n",
       "2018-04-16T20:06:01.278Z    1\n",
       "2018-04-16T20:14:00.006Z    1\n",
       "2018-03-23T17:39:22.814Z    1\n",
       "2018-05-26T22:02:40.849Z    1\n",
       "2018-05-03T02:09:44.031Z    1\n",
       "2018-03-23T17:41:27.232Z    1\n",
       "2018-03-23T17:42:49.267Z    1\n",
       "2018-04-16T21:58:04.912Z    1\n",
       "2018-05-02T21:41:44.132Z    1\n",
       "2018-03-23T17:39:02.860Z    1\n",
       "2018-04-16T20:16:09.408Z    1\n",
       "2018-04-16T19:58:10.632Z    1\n",
       "2018-03-23T17:45:20.503Z    1\n",
       "2018-03-23T17:42:14.806Z    1\n",
       "2019-01-21T18:50:14.983Z    1\n",
       "2018-03-23T17:48:44.033Z    1\n",
       "2018-03-23T17:39:43.173Z    1\n",
       "Name: createdAt, Length: 453, dtype: int64"
      ]
     },
     "execution_count": 7,
     "metadata": {},
     "output_type": "execute_result"
    }
   ],
   "source": [
    "pizza_df['createdAt'].value_counts()"
   ]
  },
  {
   "cell_type": "code",
   "execution_count": 4,
   "metadata": {},
   "outputs": [
    {
     "ename": "WebDriverException",
     "evalue": "Message: 'chromedriver' executable needs to be in PATH. Please see https://sites.google.com/a/chromium.org/chromedriver/home\n",
     "output_type": "error",
     "traceback": [
      "\u001b[0;31m---------------------------------------------------------------------------\u001b[0m",
      "\u001b[0;31mFileNotFoundError\u001b[0m                         Traceback (most recent call last)",
      "\u001b[0;32m/usr/local/lib/python3.7/site-packages/selenium/webdriver/common/service.py\u001b[0m in \u001b[0;36mstart\u001b[0;34m(self)\u001b[0m\n\u001b[1;32m     73\u001b[0m                                             \u001b[0mclose_fds\u001b[0m\u001b[0;34m=\u001b[0m\u001b[0mplatform\u001b[0m\u001b[0;34m.\u001b[0m\u001b[0msystem\u001b[0m\u001b[0;34m(\u001b[0m\u001b[0;34m)\u001b[0m \u001b[0;34m!=\u001b[0m \u001b[0;34m'Windows'\u001b[0m\u001b[0;34m,\u001b[0m\u001b[0;34m\u001b[0m\u001b[0m\n\u001b[0;32m---> 74\u001b[0;31m                                             stdout=self.log_file, stderr=self.log_file)\n\u001b[0m\u001b[1;32m     75\u001b[0m         \u001b[0;32mexcept\u001b[0m \u001b[0mTypeError\u001b[0m\u001b[0;34m:\u001b[0m\u001b[0;34m\u001b[0m\u001b[0m\n",
      "\u001b[0;32m/usr/local/Cellar/python/3.7.0/Frameworks/Python.framework/Versions/3.7/lib/python3.7/subprocess.py\u001b[0m in \u001b[0;36m__init__\u001b[0;34m(self, args, bufsize, executable, stdin, stdout, stderr, preexec_fn, close_fds, shell, cwd, env, universal_newlines, startupinfo, creationflags, restore_signals, start_new_session, pass_fds, encoding, errors, text)\u001b[0m\n\u001b[1;32m    755\u001b[0m                                 \u001b[0merrread\u001b[0m\u001b[0;34m,\u001b[0m \u001b[0merrwrite\u001b[0m\u001b[0;34m,\u001b[0m\u001b[0;34m\u001b[0m\u001b[0m\n\u001b[0;32m--> 756\u001b[0;31m                                 restore_signals, start_new_session)\n\u001b[0m\u001b[1;32m    757\u001b[0m         \u001b[0;32mexcept\u001b[0m\u001b[0;34m:\u001b[0m\u001b[0;34m\u001b[0m\u001b[0m\n",
      "\u001b[0;32m/usr/local/Cellar/python/3.7.0/Frameworks/Python.framework/Versions/3.7/lib/python3.7/subprocess.py\u001b[0m in \u001b[0;36m_execute_child\u001b[0;34m(self, args, executable, preexec_fn, close_fds, pass_fds, cwd, env, startupinfo, creationflags, shell, p2cread, p2cwrite, c2pread, c2pwrite, errread, errwrite, restore_signals, start_new_session)\u001b[0m\n\u001b[1;32m   1498\u001b[0m                             \u001b[0merr_msg\u001b[0m \u001b[0;34m+=\u001b[0m \u001b[0;34m': '\u001b[0m \u001b[0;34m+\u001b[0m \u001b[0mrepr\u001b[0m\u001b[0;34m(\u001b[0m\u001b[0merr_filename\u001b[0m\u001b[0;34m)\u001b[0m\u001b[0;34m\u001b[0m\u001b[0m\n\u001b[0;32m-> 1499\u001b[0;31m                     \u001b[0;32mraise\u001b[0m \u001b[0mchild_exception_type\u001b[0m\u001b[0;34m(\u001b[0m\u001b[0merrno_num\u001b[0m\u001b[0;34m,\u001b[0m \u001b[0merr_msg\u001b[0m\u001b[0;34m,\u001b[0m \u001b[0merr_filename\u001b[0m\u001b[0;34m)\u001b[0m\u001b[0;34m\u001b[0m\u001b[0m\n\u001b[0m\u001b[1;32m   1500\u001b[0m                 \u001b[0;32mraise\u001b[0m \u001b[0mchild_exception_type\u001b[0m\u001b[0;34m(\u001b[0m\u001b[0merr_msg\u001b[0m\u001b[0;34m)\u001b[0m\u001b[0;34m\u001b[0m\u001b[0m\n",
      "\u001b[0;31mFileNotFoundError\u001b[0m: [Errno 2] No such file or directory: 'chromedriver': 'chromedriver'",
      "\nDuring handling of the above exception, another exception occurred:\n",
      "\u001b[0;31mWebDriverException\u001b[0m                        Traceback (most recent call last)",
      "\u001b[0;32m<ipython-input-4-c6c0148cc23d>\u001b[0m in \u001b[0;36m<module>\u001b[0;34m()\u001b[0m\n\u001b[1;32m      9\u001b[0m     \u001b[0mvalues_column\u001b[0m\u001b[0;34m=\u001b[0m\u001b[0;34m'reviewStats.dave.averageScore'\u001b[0m\u001b[0;34m,\u001b[0m\u001b[0;34m\u001b[0m\u001b[0m\n\u001b[1;32m     10\u001b[0m     method='density')\n\u001b[0;32m---> 11\u001b[0;31m \u001b[0mch\u001b[0m\u001b[0;34m.\u001b[0m\u001b[0mshow\u001b[0m\u001b[0;34m(\u001b[0m\u001b[0;34m'png'\u001b[0m\u001b[0;34m)\u001b[0m\u001b[0;34m\u001b[0m\u001b[0m\n\u001b[0m",
      "\u001b[0;32m~/Library/Python/3.7/lib/python/site-packages/chartify/_core/chart.py\u001b[0m in \u001b[0;36mshow\u001b[0;34m(self, format)\u001b[0m\n\u001b[1;32m    373\u001b[0m             \u001b[0;32mreturn\u001b[0m \u001b[0mbokeh\u001b[0m\u001b[0;34m.\u001b[0m\u001b[0mio\u001b[0m\u001b[0;34m.\u001b[0m\u001b[0mshow\u001b[0m\u001b[0;34m(\u001b[0m\u001b[0mself\u001b[0m\u001b[0;34m.\u001b[0m\u001b[0mfigure\u001b[0m\u001b[0;34m)\u001b[0m\u001b[0;34m\u001b[0m\u001b[0m\n\u001b[1;32m    374\u001b[0m         \u001b[0;32melif\u001b[0m \u001b[0mformat\u001b[0m \u001b[0;34m==\u001b[0m \u001b[0;34m'png'\u001b[0m\u001b[0;34m:\u001b[0m\u001b[0;34m\u001b[0m\u001b[0m\n\u001b[0;32m--> 375\u001b[0;31m             \u001b[0mimage\u001b[0m \u001b[0;34m=\u001b[0m \u001b[0mself\u001b[0m\u001b[0;34m.\u001b[0m\u001b[0m_figure_to_png\u001b[0m\u001b[0;34m(\u001b[0m\u001b[0;34m)\u001b[0m\u001b[0;34m\u001b[0m\u001b[0m\n\u001b[0m\u001b[1;32m    376\u001b[0m             \u001b[0;31m# Need to re-enable this when logos are added back.\u001b[0m\u001b[0;34m\u001b[0m\u001b[0;34m\u001b[0m\u001b[0m\n\u001b[1;32m    377\u001b[0m             \u001b[0;31m# image = self.logo._add_logo_to_image(image)\u001b[0m\u001b[0;34m\u001b[0m\u001b[0;34m\u001b[0m\u001b[0m\n",
      "\u001b[0;32m~/Library/Python/3.7/lib/python/site-packages/chartify/_core/chart.py\u001b[0m in \u001b[0;36m_figure_to_png\u001b[0;34m(self)\u001b[0m\n\u001b[1;32m    452\u001b[0m         \u001b[0mTo\u001b[0m \u001b[0mconvert\u001b[0m \u001b[0mto\u001b[0m \u001b[0mPNG\u001b[0m \u001b[0mthe\u001b[0m \u001b[0mHTML\u001b[0m \u001b[0mfile\u001b[0m \u001b[0;32mis\u001b[0m \u001b[0mopened\u001b[0m \u001b[0;32min\u001b[0m \u001b[0ma\u001b[0m \u001b[0mheadless\u001b[0m \u001b[0mbrowser\u001b[0m\u001b[0;34m.\u001b[0m\u001b[0;34m\u001b[0m\u001b[0m\n\u001b[1;32m    453\u001b[0m         \"\"\"\n\u001b[0;32m--> 454\u001b[0;31m         \u001b[0mdriver\u001b[0m \u001b[0;34m=\u001b[0m \u001b[0mself\u001b[0m\u001b[0;34m.\u001b[0m\u001b[0m_initialize_webdriver\u001b[0m\u001b[0;34m(\u001b[0m\u001b[0;34m)\u001b[0m\u001b[0;34m\u001b[0m\u001b[0m\n\u001b[0m\u001b[1;32m    455\u001b[0m         \u001b[0;31m# Save figure as HTML\u001b[0m\u001b[0;34m\u001b[0m\u001b[0;34m\u001b[0m\u001b[0m\n\u001b[1;32m    456\u001b[0m         \u001b[0mhtml\u001b[0m \u001b[0;34m=\u001b[0m \u001b[0mfile_html\u001b[0m\u001b[0;34m(\u001b[0m\u001b[0mself\u001b[0m\u001b[0;34m.\u001b[0m\u001b[0mfigure\u001b[0m\u001b[0;34m,\u001b[0m \u001b[0mresources\u001b[0m\u001b[0;34m=\u001b[0m\u001b[0mINLINE\u001b[0m\u001b[0;34m,\u001b[0m \u001b[0mtitle\u001b[0m\u001b[0;34m=\u001b[0m\u001b[0;34m\"\"\u001b[0m\u001b[0;34m)\u001b[0m\u001b[0;34m\u001b[0m\u001b[0m\n",
      "\u001b[0;32m~/Library/Python/3.7/lib/python/site-packages/chartify/_core/chart.py\u001b[0m in \u001b[0;36m_initialize_webdriver\u001b[0;34m(self)\u001b[0m\n\u001b[1;32m    444\u001b[0m         \u001b[0moptions\u001b[0m\u001b[0;34m.\u001b[0m\u001b[0madd_argument\u001b[0m\u001b[0;34m(\u001b[0m\u001b[0;34m'--headless'\u001b[0m\u001b[0;34m)\u001b[0m\u001b[0;34m\u001b[0m\u001b[0m\n\u001b[1;32m    445\u001b[0m         \u001b[0moptions\u001b[0m\u001b[0;34m.\u001b[0m\u001b[0madd_argument\u001b[0m\u001b[0;34m(\u001b[0m\u001b[0;34m'--hide-scrollbars'\u001b[0m\u001b[0;34m)\u001b[0m\u001b[0;34m\u001b[0m\u001b[0m\n\u001b[0;32m--> 446\u001b[0;31m         \u001b[0mdriver\u001b[0m \u001b[0;34m=\u001b[0m \u001b[0mwebdriver\u001b[0m\u001b[0;34m.\u001b[0m\u001b[0mChrome\u001b[0m\u001b[0;34m(\u001b[0m\u001b[0moptions\u001b[0m\u001b[0;34m=\u001b[0m\u001b[0moptions\u001b[0m\u001b[0;34m)\u001b[0m\u001b[0;34m\u001b[0m\u001b[0m\n\u001b[0m\u001b[1;32m    447\u001b[0m         \u001b[0;32mreturn\u001b[0m \u001b[0mdriver\u001b[0m\u001b[0;34m\u001b[0m\u001b[0m\n\u001b[1;32m    448\u001b[0m \u001b[0;34m\u001b[0m\u001b[0m\n",
      "\u001b[0;32m/usr/local/lib/python3.7/site-packages/selenium/webdriver/chrome/webdriver.py\u001b[0m in \u001b[0;36m__init__\u001b[0;34m(self, executable_path, port, options, service_args, desired_capabilities, service_log_path, chrome_options)\u001b[0m\n\u001b[1;32m     66\u001b[0m             \u001b[0mservice_args\u001b[0m\u001b[0;34m=\u001b[0m\u001b[0mservice_args\u001b[0m\u001b[0;34m,\u001b[0m\u001b[0;34m\u001b[0m\u001b[0m\n\u001b[1;32m     67\u001b[0m             log_path=service_log_path)\n\u001b[0;32m---> 68\u001b[0;31m         \u001b[0mself\u001b[0m\u001b[0;34m.\u001b[0m\u001b[0mservice\u001b[0m\u001b[0;34m.\u001b[0m\u001b[0mstart\u001b[0m\u001b[0;34m(\u001b[0m\u001b[0;34m)\u001b[0m\u001b[0;34m\u001b[0m\u001b[0m\n\u001b[0m\u001b[1;32m     69\u001b[0m \u001b[0;34m\u001b[0m\u001b[0m\n\u001b[1;32m     70\u001b[0m         \u001b[0;32mtry\u001b[0m\u001b[0;34m:\u001b[0m\u001b[0;34m\u001b[0m\u001b[0m\n",
      "\u001b[0;32m/usr/local/lib/python3.7/site-packages/selenium/webdriver/common/service.py\u001b[0m in \u001b[0;36mstart\u001b[0;34m(self)\u001b[0m\n\u001b[1;32m     79\u001b[0m                 raise WebDriverException(\n\u001b[1;32m     80\u001b[0m                     \"'%s' executable needs to be in PATH. %s\" % (\n\u001b[0;32m---> 81\u001b[0;31m                         os.path.basename(self.path), self.start_error_message)\n\u001b[0m\u001b[1;32m     82\u001b[0m                 )\n\u001b[1;32m     83\u001b[0m             \u001b[0;32melif\u001b[0m \u001b[0merr\u001b[0m\u001b[0;34m.\u001b[0m\u001b[0merrno\u001b[0m \u001b[0;34m==\u001b[0m \u001b[0merrno\u001b[0m\u001b[0;34m.\u001b[0m\u001b[0mEACCES\u001b[0m\u001b[0;34m:\u001b[0m\u001b[0;34m\u001b[0m\u001b[0m\n",
      "\u001b[0;31mWebDriverException\u001b[0m: Message: 'chromedriver' executable needs to be in PATH. Please see https://sites.google.com/a/chromium.org/chromedriver/home\n"
     ]
    }
   ],
   "source": [
    "ch = chartify.Chart(blank_labels=True, y_axis_type='density')\n",
    "ch.set_title(\"KDE plot + Histogram\")\n",
    "ch.plot.kde(\n",
    "    data_frame=pizza_df,\n",
    "    values_column='reviewStats.dave.averageScore')\n",
    "ch.style.color_palette.reset_palette_order()\n",
    "ch.plot.histogram(\n",
    "    data_frame=pizza_df,\n",
    "    values_column='reviewStats.dave.averageScore',\n",
    "    method='density')\n",
    "ch.show('png')"
   ]
  },
  {
   "cell_type": "code",
   "execution_count": 17,
   "metadata": {},
   "outputs": [
    {
     "data": {
      "text/plain": [
       "<matplotlib.axes._subplots.AxesSubplot at 0x112e73160>"
      ]
     },
     "execution_count": 17,
     "metadata": {},
     "output_type": "execute_result"
    },
    {
     "data": {
      "image/png": "[encoded data removed]",
      "text/plain": [
       "<Figure size 432x288 with 1 Axes>"
      ]
     },
     "metadata": {},
     "output_type": "display_data"
    }
   ],
   "source": [
    "pizza_df['reviewStats.community.averageScore'].hist(bins=40)"
   ]
  },
  {
   "cell_type": "code",
   "execution_count": null,
   "metadata": {},
   "outputs": [],
   "source": []
  },
  {
   "cell_type": "code",
   "execution_count": null,
   "metadata": {},
   "outputs": [],
   "source": []
  },
  {
   "cell_type": "code",
   "execution_count": null,
   "metadata": {},
   "outputs": [],
   "source": []
  },
  {
   "cell_type": "code",
   "execution_count": null,
   "metadata": {},
   "outputs": [],
   "source": []
  },
  {
   "cell_type": "code",
   "execution_count": null,
   "metadata": {},
   "outputs": [],
   "source": []
  },
  {
   "cell_type": "code",
   "execution_count": null,
   "metadata": {},
   "outputs": [],
   "source": []
  },
  {
   "cell_type": "code",
   "execution_count": null,
   "metadata": {},
   "outputs": [],
   "source": []
  },
  {
   "cell_type": "code",
   "execution_count": null,
   "metadata": {},
   "outputs": [],
   "source": []
  }
 ],
 "metadata": {
  "kernelspec": {
   "display_name": "Python 3",
   "language": "python",
   "name": "python3"
  },
  "language_info": {
   "codemirror_mode": {
    "name": "ipython",
    "version": 3
   },
   "file_extension": ".py",
   "mimetype": "text/x-python",
   "name": "python",
   "nbconvert_exporter": "python",
   "pygments_lexer": "ipython3",
   "version": "3.7.0"
  }
 },
 "nbformat": 4,
 "nbformat_minor": 2
}
