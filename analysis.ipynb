{
 "cells": [
  {
   "cell_type": "code",
   "execution_count": 2,
   "metadata": {},
   "outputs": [],
   "source": [
    "import pandas as pd\n",
    "import seaborn as sns\n",
    "import matplotlib.pyplot as plt"
   ]
  },
  {
   "cell_type": "code",
   "execution_count": 3,
   "metadata": {},
   "outputs": [],
   "source": [
    "pizza_df = pd.read_csv(\"pizza_data.csv\")"
   ]
  },
  {
   "cell_type": "code",
   "execution_count": 4,
   "metadata": {},
   "outputs": [],
   "source": [
    "sns.set()"
   ]
  },
  {
   "cell_type": "code",
   "execution_count": 5,
   "metadata": {},
   "outputs": [
    {
     "data": {
      "text/plain": [
       "Index(['_distance', 'address1', 'address2', 'categories', 'city', 'country',\n",
       "       'createdAt', 'deleted', 'featuredMedia.__t', 'featuredMedia.__v',\n",
       "       'featuredMedia._id', 'featuredMedia.assetId', 'featuredMedia.createdAt',\n",
       "       'featuredMedia.deleted', 'featuredMedia.id',\n",
       "       'featuredMedia.metadata.aspectRatio', 'featuredMedia.metadata.duration',\n",
       "       'featuredMedia.metadata.frameRate', 'featuredMedia.metadata.resolution',\n",
       "       'featuredMedia.modifiedAt', 'featuredMedia.playbackId',\n",
       "       'featuredMedia.reviewId', 'featuredMedia.sourceUrl',\n",
       "       'featuredMedia.status', 'featuredMedia.streams.hls',\n",
       "       'featuredMedia.streams.mp4', 'featuredMedia.thumbnails.large',\n",
       "       'featuredMedia.thumbnails.medium', 'featuredMedia.thumbnails.small',\n",
       "       'featuredMedia.type', 'featuredMedia.user', 'id', 'imageUrl',\n",
       "       'loc.coordinates', 'loc.type', 'modifiedAt', 'name', 'openHours',\n",
       "       'orderProvider', 'orderProvider.checkoutUrl',\n",
       "       'orderProvider.internalId', 'orderProvider.logo', 'orderProvider.name',\n",
       "       'phoneNumber', 'photos', 'placeId', 'priceLevel', 'providerRating',\n",
       "       'providerReviewCount', 'providerTransactions', 'providerUrl',\n",
       "       'refreshDate', 'reviewStats.all.averageScore', 'reviewStats.all.count',\n",
       "       'reviewStats.all.totalScore', 'reviewStats.community.averageScore',\n",
       "       'reviewStats.community.count', 'reviewStats.community.totalScore',\n",
       "       'reviewStats.critic.averageScore', 'reviewStats.critic.count',\n",
       "       'reviewStats.critic.totalScore', 'reviewStats.dave.averageScore',\n",
       "       'reviewStats.dave.count', 'reviewStats.dave.totalScore', 'slug',\n",
       "       'state', 'timeZone', 'type', 'zip', 'address_total', 'accuracy',\n",
       "       'formatted_address', 'google_place_id', 'input_string', 'latitude',\n",
       "       'longitude', 'number_of_results', 'postcode', 'response.error_message',\n",
       "       'response.results', 'response.status', 'status', 'type.1',\n",
       "       'string_concat', 'dave_score_int', 'review_number'],\n",
       "      dtype='object')"
      ]
     },
     "execution_count": 5,
     "metadata": {},
     "output_type": "execute_result"
    }
   ],
   "source": [
    "pizza_df.columns"
   ]
  },
  {
   "cell_type": "code",
   "execution_count": 39,
   "metadata": {},
   "outputs": [
    {
     "name": "stderr",
     "output_type": "stream",
     "text": [
      "/usr/local/Cellar/ipython/6.5.0/libexec/vendor/lib/python3.7/site-packages/ipykernel_launcher.py:1: FutureWarning: using a dict on a Series for aggregation\n",
      "is deprecated and will be removed in a future version\n",
      "  \"\"\"Entry point for launching an IPython kernel.\n"
     ]
    }
   ],
   "source": [
    "cities_df = pizza_df.groupby('city')['reviewStats.dave.averageScore'].agg({'score':'mean', 'review_count':'size'})"
   ]
  },
  {
   "cell_type": "code",
   "execution_count": 40,
   "metadata": {},
   "outputs": [],
   "source": [
    "cities_df.reset_index(level=0, inplace=True)"
   ]
  },
  {
   "cell_type": "code",
   "execution_count": 68,
   "metadata": {},
   "outputs": [],
   "source": [
    "cities_df = cities_df[cities_df['review_count'] >= 10].sort_values(by='review_count')"
   ]
  },
  {
   "cell_type": "code",
   "execution_count": 69,
   "metadata": {},
   "outputs": [
    {
     "data": {
      "text/html": [
       "<div>\n",
       "<style scoped>\n",
       "    .dataframe tbody tr th:only-of-type {\n",
       "        vertical-align: middle;\n",
       "    }\n",
       "\n",
       "    .dataframe tbody tr th {\n",
       "        vertical-align: top;\n",
       "    }\n",
       "\n",
       "    .dataframe thead th {\n",
       "        text-align: right;\n",
       "    }\n",
       "</style>\n",
       "<table border=\"1\" class=\"dataframe\">\n",
       "  <thead>\n",
       "    <tr style=\"text-align: right;\">\n",
       "      <th></th>\n",
       "      <th>city</th>\n",
       "      <th>score</th>\n",
       "      <th>review_count</th>\n",
       "    </tr>\n",
       "  </thead>\n",
       "  <tbody>\n",
       "    <tr>\n",
       "      <th>48</th>\n",
       "      <td>Las Vegas</td>\n",
       "      <td>5.109091</td>\n",
       "      <td>11</td>\n",
       "    </tr>\n",
       "    <tr>\n",
       "      <th>7</th>\n",
       "      <td>Boston</td>\n",
       "      <td>6.903077</td>\n",
       "      <td>13</td>\n",
       "    </tr>\n",
       "    <tr>\n",
       "      <th>11</th>\n",
       "      <td>Brooklyn</td>\n",
       "      <td>7.870000</td>\n",
       "      <td>20</td>\n",
       "    </tr>\n",
       "    <tr>\n",
       "      <th>64</th>\n",
       "      <td>New York</td>\n",
       "      <td>6.480398</td>\n",
       "      <td>251</td>\n",
       "    </tr>\n",
       "  </tbody>\n",
       "</table>\n",
       "</div>"
      ],
      "text/plain": [
       "         city     score  review_count\n",
       "48  Las Vegas  5.109091            11\n",
       "7      Boston  6.903077            13\n",
       "11   Brooklyn  7.870000            20\n",
       "64   New York  6.480398           251"
      ]
     },
     "execution_count": 69,
     "metadata": {},
     "output_type": "execute_result"
    }
   ],
   "source": [
    "cities_df"
   ]
  },
  {
   "cell_type": "code",
   "execution_count": 70,
   "metadata": {},
   "outputs": [],
   "source": [
    "filtered_pizza = pizza_df[pizza_df['city'].isin(cities_df['city'])]"
   ]
  },
  {
   "cell_type": "code",
   "execution_count": 72,
   "metadata": {},
   "outputs": [
    {
     "name": "stderr",
     "output_type": "stream",
     "text": [
      "/usr/local/Cellar/ipython/6.5.0/libexec/vendor/lib/python3.7/site-packages/ipykernel_launcher.py:1: SettingWithCopyWarning: \n",
      "A value is trying to be set on a copy of a slice from a DataFrame.\n",
      "Try using .loc[row_indexer,col_indexer] = value instead\n",
      "\n",
      "See the caveats in the documentation: http://pandas.pydata.org/pandas-docs/stable/indexing.html#indexing-view-versus-copy\n",
      "  \"\"\"Entry point for launching an IPython kernel.\n"
     ]
    }
   ],
   "source": [
    "filtered_pizza['dave_average_score'] = filtered_pizza['reviewStats.dave.averageScore']"
   ]
  },
  {
   "cell_type": "code",
   "execution_count": 73,
   "metadata": {},
   "outputs": [
    {
     "name": "stderr",
     "output_type": "stream",
     "text": [
      "/usr/local/lib/python3.7/site-packages/scipy/stats/stats.py:1713: FutureWarning: Using a non-tuple sequence for multidimensional indexing is deprecated; use `arr[tuple(seq)]` instead of `arr[seq]`. In the future this will be interpreted as an array index, `arr[np.array(seq)]`, which will result either in an error or a different result.\n",
      "  return np.add.reduce(sorted[indexer] * weights, axis=axis) / sumval\n"
     ]
    },
    {
     "data": {
      "image/png": "[encoded data removed]",
      "text/plain": [
       "<Figure size 432x432 with 4 Axes>"
      ]
     },
     "metadata": {},
     "output_type": "display_data"
    }
   ],
   "source": [
    "g = sns.FacetGrid(filtered_pizza, col=\"city\", col_wrap=2)\n",
    "g = g.map(sns.distplot, \"dave_average_score\")"
   ]
  },
  {
   "cell_type": "code",
   "execution_count": 49,
   "metadata": {},
   "outputs": [
    {
     "data": {
      "text/plain": [
       "(array([ 0,  1,  2,  3,  4,  5,  6,  7,  8,  9, 10]),\n",
       " <a list of 11 Text xticklabel objects>)"
      ]
     },
     "execution_count": 49,
     "metadata": {},
     "output_type": "execute_result"
    },
    {
     "data": {
      "image/png": "[encoded data removed]",
      "text/plain": [
       "<Figure size 432x288 with 1 Axes>"
      ]
     },
     "metadata": {},
     "output_type": "display_data"
    }
   ],
   "source": [
    "sns.barplot(x=cities_df['city'], y = cities_df['review_count'])\n",
    "plt.xticks(rotation=40)"
   ]
  },
  {
   "cell_type": "code",
   "execution_count": 48,
   "metadata": {},
   "outputs": [
    {
     "data": {
      "text/plain": [
       "<matplotlib.axes._subplots.AxesSubplot at 0x12564be10>"
      ]
     },
     "execution_count": 48,
     "metadata": {},
     "output_type": "execute_result"
    },
    {
     "data": {
      "image/png": "[encoded data removed]",
      "text/plain": [
       "<Figure size 432x288 with 2 Axes>"
      ]
     },
     "metadata": {},
     "output_type": "display_data"
    }
   ],
   "source": [
    "ax2=plt.twinx()\n",
    "sns.barplot(x=cities_df['city'], y = cities_df['score'])"
   ]
  },
  {
   "cell_type": "code",
   "execution_count": 45,
   "metadata": {},
   "outputs": [
    {
     "data": {
      "text/plain": [
       "(array([ 0,  1,  2,  3,  4,  5,  6,  7,  8,  9, 10]),\n",
       " <a list of 11 Text xticklabel objects>)"
      ]
     },
     "execution_count": 45,
     "metadata": {},
     "output_type": "execute_result"
    },
    {
     "data": {
      "image/png": "[encoded data removed]",
      "text/plain": [
       "<Figure size 432x288 with 1 Axes>"
      ]
     },
     "metadata": {},
     "output_type": "display_data"
    }
   ],
   "source": [
    "import matplotlib.pyplot as plt\n",
    "sns.lineplot(data=df.column1, color=\"g\")\n",
    "ax2 = plt.twinx()\n",
    "sns.lineplot(data=df.column2, color=\"b\", ax=ax2)"
   ]
  },
  {
   "cell_type": "code",
   "execution_count": 47,
   "metadata": {},
   "outputs": [
    {
     "data": {
      "text/plain": [
       "(array([ 0,  1,  2,  3,  4,  5,  6,  7,  8,  9, 10]),\n",
       " <a list of 11 Text xticklabel objects>)"
      ]
     },
     "execution_count": 47,
     "metadata": {},
     "output_type": "execute_result"
    },
    {
     "data": {
      "image/png": "[encoded data removed]",
      "text/plain": [
       "<Figure size 432x288 with 1 Axes>"
      ]
     },
     "metadata": {},
     "output_type": "display_data"
    }
   ],
   "source": [
    "sns.barplot(x=cities_df['city'], y = cities_df['score'])\n",
    "plt.xticks(rotation=40)"
   ]
  },
  {
   "cell_type": "code",
   "execution_count": 5,
   "metadata": {},
   "outputs": [],
   "source": [
    "types = ['reviewStats.dave.averageScore', 'reviewStats.community.averageScore']"
   ]
  },
  {
   "cell_type": "markdown",
   "metadata": {},
   "source": [
    "in some way, we can say that there is a true distribution of pizza quality in NYC that follows some statistical distribution. Each individual's sample score carries with them their perceived pizza quality distribution, and both the aggregated quality scores and a single individual's score across location can tell us about this distribution. Do people average their scores at 5 and then deviate on quality? Is this distribution normal? What does a 7 really mean?  \n",
    "What we can do here is estimate what is called the pdf of the distribution of the data from a small number of samples using a nonparametric method called kernel density estimation. Here's the KDE for both the "
   ]
  },
  {
   "cell_type": "code",
   "execution_count": 15,
   "metadata": {},
   "outputs": [
    {
     "name": "stderr",
     "output_type": "stream",
     "text": [
      "/usr/local/lib/python3.7/site-packages/scipy/stats/stats.py:1713: FutureWarning: Using a non-tuple sequence for multidimensional indexing is deprecated; use `arr[tuple(seq)]` instead of `arr[seq]`. In the future this will be interpreted as an array index, `arr[np.array(seq)]`, which will result either in an error or a different result.\n",
      "  return np.add.reduce(sorted[indexer] * weights, axis=axis) / sumval\n"
     ]
    },
    {
     "data": {
      "text/plain": [
       "Text(0,0.5,'Propensity')"
      ]
     },
     "execution_count": 15,
     "metadata": {},
     "output_type": "execute_result"
    },
    {
     "data": {
      "image/png": "[encoded data removed]",
      "text/plain": [
       "<Figure size 432x288 with 1 Axes>"
      ]
     },
     "metadata": {},
     "output_type": "display_data"
    }
   ],
   "source": [
    "#what we want to do is es\n",
    "fig, ax = plt.subplots()\n",
    "import matplotlib.patches as mpatches\n",
    "import matplotlib.pyplot as plt\n",
    "\n",
    "orange_patch = mpatches.Patch(color='orange', label='Community')\n",
    "blue_patch = mpatches.Patch(color='lightskyblue', label='Dave')\n",
    "\n",
    "\n",
    "\n",
    "for col in types:\n",
    "    sns.distplot(pizza_df[col], ax=ax)\n",
    "handles, labels = ax.get_legend_handles_labels()\n",
    "ax.legend(handles, labels)\n",
    "plt.legend(handles=[orange_patch, blue_patch])\n",
    "plt.xlabel(\"Pizza Review Scores\")\n",
    "plt.ylabel(\"Propensity\")"
   ]
  },
  {
   "cell_type": "code",
   "execution_count": 11,
   "metadata": {},
   "outputs": [
    {
     "data": {
      "text/html": [
       "<div>\n",
       "<style scoped>\n",
       "    .dataframe tbody tr th:only-of-type {\n",
       "        vertical-align: middle;\n",
       "    }\n",
       "\n",
       "    .dataframe tbody tr th {\n",
       "        vertical-align: top;\n",
       "    }\n",
       "\n",
       "    .dataframe thead th {\n",
       "        text-align: right;\n",
       "    }\n",
       "</style>\n",
       "<table border=\"1\" class=\"dataframe\">\n",
       "  <thead>\n",
       "    <tr style=\"text-align: right;\">\n",
       "      <th></th>\n",
       "      <th>_distance</th>\n",
       "      <th>address1</th>\n",
       "      <th>address2</th>\n",
       "      <th>categories</th>\n",
       "      <th>city</th>\n",
       "      <th>country</th>\n",
       "      <th>createdAt</th>\n",
       "      <th>deleted</th>\n",
       "      <th>featuredMedia.__t</th>\n",
       "      <th>featuredMedia.__v</th>\n",
       "      <th>...</th>\n",
       "      <th>input_string</th>\n",
       "      <th>latitude</th>\n",
       "      <th>longitude</th>\n",
       "      <th>number_of_results</th>\n",
       "      <th>postcode</th>\n",
       "      <th>response.error_message</th>\n",
       "      <th>response.results</th>\n",
       "      <th>response.status</th>\n",
       "      <th>status</th>\n",
       "      <th>type.1</th>\n",
       "    </tr>\n",
       "  </thead>\n",
       "  <tbody>\n",
       "    <tr>\n",
       "      <th>65</th>\n",
       "      <td>350196.796139</td>\n",
       "      <td>1045 Goss Ave</td>\n",
       "      <td>NaN</td>\n",
       "      <td>[{'alias': 'pizza', 'title': 'Pizza'}, {'alias...</td>\n",
       "      <td>Louisville</td>\n",
       "      <td>US</td>\n",
       "      <td>2018-03-23T17:41:43.980Z</td>\n",
       "      <td>False</td>\n",
       "      <td>NaN</td>\n",
       "      <td>NaN</td>\n",
       "      <td>...</td>\n",
       "      <td>1045 Goss Ave, Louisville,US</td>\n",
       "      <td>38.227671</td>\n",
       "      <td>-85.735416</td>\n",
       "      <td>1</td>\n",
       "      <td>40217.0</td>\n",
       "      <td>NaN</td>\n",
       "      <td>[{'address_components': [{'long_name': '1045',...</td>\n",
       "      <td>OK</td>\n",
       "      <td>OK</td>\n",
       "      <td>premise</td>\n",
       "    </tr>\n",
       "    <tr>\n",
       "      <th>66</th>\n",
       "      <td>351224.954932</td>\n",
       "      <td>700 Central Ave</td>\n",
       "      <td>NaN</td>\n",
       "      <td>[{'alias': 'stadiumsarenas', 'title': 'Stadium...</td>\n",
       "      <td>Louisville</td>\n",
       "      <td>US</td>\n",
       "      <td>2018-11-02T19:01:56.538Z</td>\n",
       "      <td>False</td>\n",
       "      <td>NaN</td>\n",
       "      <td>NaN</td>\n",
       "      <td>...</td>\n",
       "      <td>700 Central Ave, Louisville,US</td>\n",
       "      <td>38.204247</td>\n",
       "      <td>-85.771631</td>\n",
       "      <td>1</td>\n",
       "      <td>40215.0</td>\n",
       "      <td>NaN</td>\n",
       "      <td>[{'address_components': [{'long_name': '700', ...</td>\n",
       "      <td>OK</td>\n",
       "      <td>OK</td>\n",
       "      <td>premise</td>\n",
       "    </tr>\n",
       "    <tr>\n",
       "      <th>133</th>\n",
       "      <td>517332.178513</td>\n",
       "      <td>15 William St</td>\n",
       "      <td>NaN</td>\n",
       "      <td>[{'alias': 'breakfast_brunch', 'title': 'Break...</td>\n",
       "      <td>New York</td>\n",
       "      <td>US</td>\n",
       "      <td>2018-03-23T17:44:41.383Z</td>\n",
       "      <td>False</td>\n",
       "      <td>NaN</td>\n",
       "      <td>NaN</td>\n",
       "      <td>...</td>\n",
       "      <td>15 William St, New York,US</td>\n",
       "      <td>40.705371</td>\n",
       "      <td>-74.010072</td>\n",
       "      <td>1</td>\n",
       "      <td>10005.0</td>\n",
       "      <td>NaN</td>\n",
       "      <td>[{'address_components': [{'long_name': '15', '...</td>\n",
       "      <td>OK</td>\n",
       "      <td>OK</td>\n",
       "      <td>street_address</td>\n",
       "    </tr>\n",
       "    <tr>\n",
       "      <th>249</th>\n",
       "      <td>404648.989044</td>\n",
       "      <td>153 Ave C</td>\n",
       "      <td>NaN</td>\n",
       "      <td>[{'alias': 'pizza', 'title': 'Pizza'}]</td>\n",
       "      <td>New York</td>\n",
       "      <td>US</td>\n",
       "      <td>2018-03-23T17:43:07.666Z</td>\n",
       "      <td>False</td>\n",
       "      <td>NaN</td>\n",
       "      <td>NaN</td>\n",
       "      <td>...</td>\n",
       "      <td>153 Ave C, New York,US</td>\n",
       "      <td>40.725710</td>\n",
       "      <td>-73.977964</td>\n",
       "      <td>1</td>\n",
       "      <td>10009.0</td>\n",
       "      <td>NaN</td>\n",
       "      <td>[{'address_components': [{'long_name': '153', ...</td>\n",
       "      <td>OK</td>\n",
       "      <td>OK</td>\n",
       "      <td>premise</td>\n",
       "    </tr>\n",
       "    <tr>\n",
       "      <th>451</th>\n",
       "      <td>115101.541775</td>\n",
       "      <td>234 W 31st St</td>\n",
       "      <td>NaN</td>\n",
       "      <td>[{'alias': 'trainstations', 'title': 'Train St...</td>\n",
       "      <td>New York</td>\n",
       "      <td>US</td>\n",
       "      <td>2018-10-25T21:19:28.467Z</td>\n",
       "      <td>False</td>\n",
       "      <td>NaN</td>\n",
       "      <td>NaN</td>\n",
       "      <td>...</td>\n",
       "      <td>234 W 31st St, New York,US</td>\n",
       "      <td>40.749647</td>\n",
       "      <td>-73.993399</td>\n",
       "      <td>1</td>\n",
       "      <td>10001.0</td>\n",
       "      <td>NaN</td>\n",
       "      <td>[{'address_components': [{'long_name': '234', ...</td>\n",
       "      <td>OK</td>\n",
       "      <td>OK</td>\n",
       "      <td>street_address</td>\n",
       "    </tr>\n",
       "  </tbody>\n",
       "</table>\n",
       "<p>5 rows × 83 columns</p>\n",
       "</div>"
      ],
      "text/plain": [
       "         _distance         address1 address2  \\\n",
       "65   350196.796139    1045 Goss Ave      NaN   \n",
       "66   351224.954932  700 Central Ave      NaN   \n",
       "133  517332.178513    15 William St      NaN   \n",
       "249  404648.989044        153 Ave C      NaN   \n",
       "451  115101.541775    234 W 31st St      NaN   \n",
       "\n",
       "                                            categories        city country  \\\n",
       "65   [{'alias': 'pizza', 'title': 'Pizza'}, {'alias...  Louisville      US   \n",
       "66   [{'alias': 'stadiumsarenas', 'title': 'Stadium...  Louisville      US   \n",
       "133  [{'alias': 'breakfast_brunch', 'title': 'Break...    New York      US   \n",
       "249             [{'alias': 'pizza', 'title': 'Pizza'}]    New York      US   \n",
       "451  [{'alias': 'trainstations', 'title': 'Train St...    New York      US   \n",
       "\n",
       "                    createdAt  deleted  featuredMedia.__t  featuredMedia.__v  \\\n",
       "65   2018-03-23T17:41:43.980Z    False                NaN                NaN   \n",
       "66   2018-11-02T19:01:56.538Z    False                NaN                NaN   \n",
       "133  2018-03-23T17:44:41.383Z    False                NaN                NaN   \n",
       "249  2018-03-23T17:43:07.666Z    False                NaN                NaN   \n",
       "451  2018-10-25T21:19:28.467Z    False                NaN                NaN   \n",
       "\n",
       "          ...                          input_string   latitude  longitude  \\\n",
       "65        ...          1045 Goss Ave, Louisville,US  38.227671 -85.735416   \n",
       "66        ...        700 Central Ave, Louisville,US  38.204247 -85.771631   \n",
       "133       ...            15 William St, New York,US  40.705371 -74.010072   \n",
       "249       ...                153 Ave C, New York,US  40.725710 -73.977964   \n",
       "451       ...            234 W 31st St, New York,US  40.749647 -73.993399   \n",
       "\n",
       "     number_of_results postcode response.error_message  \\\n",
       "65                   1  40217.0                    NaN   \n",
       "66                   1  40215.0                    NaN   \n",
       "133                  1  10005.0                    NaN   \n",
       "249                  1  10009.0                    NaN   \n",
       "451                  1  10001.0                    NaN   \n",
       "\n",
       "                                      response.results  response.status  \\\n",
       "65   [{'address_components': [{'long_name': '1045',...               OK   \n",
       "66   [{'address_components': [{'long_name': '700', ...               OK   \n",
       "133  [{'address_components': [{'long_name': '15', '...               OK   \n",
       "249  [{'address_components': [{'long_name': '153', ...               OK   \n",
       "451  [{'address_components': [{'long_name': '234', ...               OK   \n",
       "\n",
       "    status          type.1  \n",
       "65      OK         premise  \n",
       "66      OK         premise  \n",
       "133     OK  street_address  \n",
       "249     OK         premise  \n",
       "451     OK  street_address  \n",
       "\n",
       "[5 rows x 83 columns]"
      ]
     },
     "execution_count": 11,
     "metadata": {},
     "output_type": "execute_result"
    }
   ],
   "source": [
    "pizza_df[pizza_df['reviewStats.dave.averageScore']<1]"
   ]
  },
  {
   "cell_type": "code",
   "execution_count": 19,
   "metadata": {},
   "outputs": [],
   "source": [
    "import scipy as sp\n",
    "from scipy import stats as st\n",
    "import matplotlib.pyplot as plt\n",
    "import seaborn as sns"
   ]
  },
  {
   "cell_type": "code",
   "execution_count": null,
   "metadata": {},
   "outputs": [],
   "source": [
    "pizza_kde = st.gaussian_kde(pizza_df['dave_score_int'])\n",
    "sample = pizza_kde.resample(100)"
   ]
  },
  {
   "cell_type": "code",
   "execution_count": null,
   "metadata": {},
   "outputs": [],
   "source": [
    "sample = pizza_kde.resample(1000)"
   ]
  },
  {
   "cell_type": "code",
   "execution_count": 21,
   "metadata": {},
   "outputs": [],
   "source": [
    "sample=sample/10"
   ]
  },
  {
   "cell_type": "code",
   "execution_count": 22,
   "metadata": {},
   "outputs": [
    {
     "name": "stderr",
     "output_type": "stream",
     "text": [
      "/usr/local/lib/python3.7/site-packages/scipy/stats/stats.py:1713: FutureWarning: Using a non-tuple sequence for multidimensional indexing is deprecated; use `arr[tuple(seq)]` instead of `arr[seq]`. In the future this will be interpreted as an array index, `arr[np.array(seq)]`, which will result either in an error or a different result.\n",
      "  return np.add.reduce(sorted[indexer] * weights, axis=axis) / sumval\n"
     ]
    },
    {
     "data": {
      "text/plain": [
       "Text(0.5,0,'Score')"
      ]
     },
     "execution_count": 22,
     "metadata": {},
     "output_type": "execute_result"
    },
    {
     "data": {
      "image/png": "[encoded data removed]",
      "text/plain": [
       "<Figure size 432x288 with 1 Axes>"
      ]
     },
     "metadata": {},
     "output_type": "display_data"
    }
   ],
   "source": [
    "sns.distplot(sample, kde=False)\n",
    "plt.xlabel(\"Score\")"
   ]
  },
  {
   "cell_type": "code",
   "execution_count": null,
   "metadata": {},
   "outputs": [],
   "source": [
    "ax = sns.distplot(pizza_df['reviewStats.dave.averageScore'], bins=30)\n",
    "ax.set(xlabel=\"Dave's Score\", ylabel='Propensity')\n",
    "\n",
    "plt.show()"
   ]
  },
  {
   "cell_type": "code",
   "execution_count": 9,
   "metadata": {},
   "outputs": [],
   "source": [
    "import math"
   ]
  },
  {
   "cell_type": "code",
   "execution_count": 14,
   "metadata": {},
   "outputs": [
    {
     "data": {
      "text/plain": [
       "1.7991706669659808"
      ]
     },
     "execution_count": 14,
     "metadata": {},
     "output_type": "execute_result"
    }
   ],
   "source": [
    "pizza_df['reviewStats.dave.averageScore'].median()\n",
    "pizza_df['reviewStats.dave.averageScore'].std()\n"
   ]
  },
  {
   "cell_type": "code",
   "execution_count": null,
   "metadata": {},
   "outputs": [],
   "source": [
    "pizza_df['reviewStats.dave.averageScore']"
   ]
  },
  {
   "cell_type": "code",
   "execution_count": null,
   "metadata": {},
   "outputs": [],
   "source": [
    "pd.set_option('display.max_columns',500)"
   ]
  },
  {
   "cell_type": "code",
   "execution_count": 7,
   "metadata": {},
   "outputs": [
    {
     "data": {
      "text/plain": [
       "(6.622721382289416, 1.7972266678386213)"
      ]
     },
     "execution_count": 7,
     "metadata": {},
     "output_type": "execute_result"
    }
   ],
   "source": [
    "import scipy.stats as st\n",
    "dist = getattr(st, 'norm')\n",
    "dist.fit(pizza_df['reviewStats.dave.averageScore'])"
   ]
  },
  {
   "cell_type": "code",
   "execution_count": null,
   "metadata": {},
   "outputs": [],
   "source": [
    "import scipy.stats as st\n",
    "def get_best_distribution(data):\n",
    "    dist_names = [\"norm\", \"exponweib\", \"weibull_max\", \"weibull_min\", \"pareto\", \"genextreme\"]\n",
    "    dist_results = []\n",
    "    params = {}\n",
    "    for dist_name in dist_names:\n",
    "        dist = getattr(st, dist_name)\n",
    "        param = dist.fit(data)\n",
    "\n",
    "        params[dist_name] = param\n",
    "        # Applying the Kolmogorov-Smirnov test\n",
    "        D, p = st.kstest(data, dist_name, args=param)\n",
    "        print(\"p value for \"+dist_name+\" = \"+str(p))\n",
    "        dist_results.append((dist_name, p))\n",
    "\n",
    "    # select the best fitted distribution\n",
    "    best_dist, best_p = (max(dist_results, key=lambda item: item[1]))\n",
    "    # store the name of the best fit and its p value\n",
    "\n",
    "    print(\"Best fitting distribution: \"+str(best_dist))\n",
    "    print(\"Best p value: \"+ str(best_p))\n",
    "    print(\"Parameters for the best fit: \"+ str(params[best_dist]))\n",
    "\n",
    "    return best_dist, best_p, params[best_dist]"
   ]
  },
  {
   "cell_type": "code",
   "execution_count": 9,
   "metadata": {},
   "outputs": [
    {
     "name": "stdout",
     "output_type": "stream",
     "text": [
      "p value for norm = 1.1493694884734396e-10\n",
      "p value for exponweib = 0.000855088827936612\n",
      "p value for weibull_max = 5.501486175507608e-07\n",
      "p value for weibull_min = 0.009831798280309556\n",
      "p value for pareto = 0.0\n",
      "p value for genextreme = 5.50071224569848e-07\n",
      "Best fitting distribution: weibull_min\n",
      "Best p value: 0.009831798280309556\n",
      "Parameters for the best fit: (104112319.81995434, -131621529.5743883, 131621536.96683171)\n"
     ]
    },
    {
     "name": "stderr",
     "output_type": "stream",
     "text": [
      "/usr/local/lib/python3.7/site-packages/scipy/stats/_distn_infrastructure.py:2305: RuntimeWarning: invalid value encountered in double_scalars\n",
      "  Lhat = muhat - Shat*mu\n"
     ]
    }
   ],
   "source": [
    "pizza_distribution = get_best_distribution(pizza_df['reviewStats.dave.averageScore'])"
   ]
  },
  {
   "cell_type": "code",
   "execution_count": null,
   "metadata": {},
   "outputs": [],
   "source": [
    "df_cities = pd.DataFrame(pizza_df.groupby('city')['reviewStats.dave.averageScore'].mean())"
   ]
  },
  {
   "cell_type": "code",
   "execution_count": 38,
   "metadata": {},
   "outputs": [
    {
     "data": {
      "text/html": [
       "<div>\n",
       "<style scoped>\n",
       "    .dataframe tbody tr th:only-of-type {\n",
       "        vertical-align: middle;\n",
       "    }\n",
       "\n",
       "    .dataframe tbody tr th {\n",
       "        vertical-align: top;\n",
       "    }\n",
       "\n",
       "    .dataframe thead th {\n",
       "        text-align: right;\n",
       "    }\n",
       "</style>\n",
       "<table border=\"1\" class=\"dataframe\">\n",
       "  <thead>\n",
       "    <tr style=\"text-align: right;\">\n",
       "      <th></th>\n",
       "      <th>_distance</th>\n",
       "      <th>address1</th>\n",
       "      <th>address2</th>\n",
       "      <th>categories</th>\n",
       "      <th>city</th>\n",
       "      <th>country</th>\n",
       "      <th>createdAt</th>\n",
       "      <th>deleted</th>\n",
       "      <th>featuredMedia.__t</th>\n",
       "      <th>featuredMedia.__v</th>\n",
       "      <th>featuredMedia._id</th>\n",
       "      <th>featuredMedia.assetId</th>\n",
       "      <th>featuredMedia.createdAt</th>\n",
       "      <th>featuredMedia.deleted</th>\n",
       "      <th>featuredMedia.id</th>\n",
       "      <th>featuredMedia.metadata.aspectRatio</th>\n",
       "      <th>featuredMedia.metadata.duration</th>\n",
       "      <th>featuredMedia.metadata.frameRate</th>\n",
       "      <th>featuredMedia.metadata.resolution</th>\n",
       "      <th>featuredMedia.modifiedAt</th>\n",
       "      <th>featuredMedia.playbackId</th>\n",
       "      <th>featuredMedia.reviewId</th>\n",
       "      <th>featuredMedia.sourceUrl</th>\n",
       "      <th>featuredMedia.status</th>\n",
       "      <th>featuredMedia.streams.hls</th>\n",
       "      <th>featuredMedia.streams.mp4</th>\n",
       "      <th>featuredMedia.thumbnails.large</th>\n",
       "      <th>featuredMedia.thumbnails.medium</th>\n",
       "      <th>featuredMedia.thumbnails.small</th>\n",
       "      <th>featuredMedia.type</th>\n",
       "      <th>featuredMedia.user</th>\n",
       "      <th>id</th>\n",
       "      <th>imageUrl</th>\n",
       "      <th>loc.coordinates</th>\n",
       "      <th>loc.type</th>\n",
       "      <th>modifiedAt</th>\n",
       "      <th>name</th>\n",
       "      <th>openHours</th>\n",
       "      <th>orderProvider</th>\n",
       "      <th>orderProvider.checkoutUrl</th>\n",
       "      <th>orderProvider.internalId</th>\n",
       "      <th>orderProvider.logo</th>\n",
       "      <th>orderProvider.name</th>\n",
       "      <th>phoneNumber</th>\n",
       "      <th>photos</th>\n",
       "      <th>placeId</th>\n",
       "      <th>priceLevel</th>\n",
       "      <th>providerRating</th>\n",
       "      <th>providerReviewCount</th>\n",
       "      <th>providerTransactions</th>\n",
       "      <th>providerUrl</th>\n",
       "      <th>refreshDate</th>\n",
       "      <th>reviewStats.all.averageScore</th>\n",
       "      <th>reviewStats.all.count</th>\n",
       "      <th>reviewStats.all.totalScore</th>\n",
       "      <th>reviewStats.community.averageScore</th>\n",
       "      <th>reviewStats.community.count</th>\n",
       "      <th>reviewStats.community.totalScore</th>\n",
       "      <th>reviewStats.critic.averageScore</th>\n",
       "      <th>reviewStats.critic.count</th>\n",
       "      <th>reviewStats.critic.totalScore</th>\n",
       "      <th>reviewStats.dave.averageScore</th>\n",
       "      <th>reviewStats.dave.count</th>\n",
       "      <th>reviewStats.dave.totalScore</th>\n",
       "      <th>slug</th>\n",
       "      <th>state</th>\n",
       "      <th>timeZone</th>\n",
       "      <th>type</th>\n",
       "      <th>zip</th>\n",
       "      <th>address_total</th>\n",
       "      <th>accuracy</th>\n",
       "      <th>formatted_address</th>\n",
       "      <th>google_place_id</th>\n",
       "      <th>input_string</th>\n",
       "      <th>latitude</th>\n",
       "      <th>longitude</th>\n",
       "      <th>number_of_results</th>\n",
       "      <th>postcode</th>\n",
       "      <th>response.error_message</th>\n",
       "      <th>response.results</th>\n",
       "      <th>response.status</th>\n",
       "      <th>status</th>\n",
       "      <th>type.1</th>\n",
       "      <th>string_concat</th>\n",
       "      <th>dave_score_int</th>\n",
       "    </tr>\n",
       "  </thead>\n",
       "  <tbody>\n",
       "    <tr>\n",
       "      <th>286</th>\n",
       "      <td>291271.444717</td>\n",
       "      <td>141 Eastern Ave</td>\n",
       "      <td>NaN</td>\n",
       "      <td>[{'alias': 'pizza', 'title': 'Pizza'}, {'alias...</td>\n",
       "      <td>Lynn</td>\n",
       "      <td>US</td>\n",
       "      <td>2018-04-16T20:16:08.314Z</td>\n",
       "      <td>False</td>\n",
       "      <td>NaN</td>\n",
       "      <td>NaN</td>\n",
       "      <td>NaN</td>\n",
       "      <td>Q9owmMXbbO9an4Ba528OBaiiuFWo4kva</td>\n",
       "      <td>2018-07-26T16:51:09.046Z</td>\n",
       "      <td>False</td>\n",
       "      <td>031ed0d6-76ad-4877-9527-6d2802768614</td>\n",
       "      <td>16:9</td>\n",
       "      <td>202.325</td>\n",
       "      <td>30.0</td>\n",
       "      <td>SD</td>\n",
       "      <td>2018-07-26T16:53:00.342Z</td>\n",
       "      <td>NsF8H3Bq01rIa1fMmfM00hQStcdy01NgufG</td>\n",
       "      <td>bc807434-54d5-43df-9c5e-42d826c8e9f8</td>\n",
       "      <td>https://s3.amazonaws.com/one-bite-media-prod/2...</td>\n",
       "      <td>READY</td>\n",
       "      <td>https://stream.mux.com/NsF8H3Bq01rIa1fMmfM00hQ...</td>\n",
       "      <td>https://s3.amazonaws.com/one-bite-media-prod/2...</td>\n",
       "      <td>https://image.mux.com/NsF8H3Bq01rIa1fMmfM00hQS...</td>\n",
       "      <td>https://image.mux.com/NsF8H3Bq01rIa1fMmfM00hQS...</td>\n",
       "      <td>https://image.mux.com/NsF8H3Bq01rIa1fMmfM00hQS...</td>\n",
       "      <td>VIDEO</td>\n",
       "      <td>NaN</td>\n",
       "      <td>5c6d4969-ffe7-4ae3-b657-8b77f15e28b6</td>\n",
       "      <td>https://s3-media2.fl.yelpcdn.com/bphoto/gciaao...</td>\n",
       "      <td>[-70.92541, 42.47205]</td>\n",
       "      <td>Point</td>\n",
       "      <td>2019-03-18T06:46:03.187Z</td>\n",
       "      <td>Monte's Restaurant</td>\n",
       "      <td>[]</td>\n",
       "      <td>NaN</td>\n",
       "      <td>NaN</td>\n",
       "      <td>NaN</td>\n",
       "      <td>NaN</td>\n",
       "      <td>NaN</td>\n",
       "      <td>1.781599e+10</td>\n",
       "      <td>[]</td>\n",
       "      <td>F43SpX2oyiTI8waE0zNrPQ</td>\n",
       "      <td>1</td>\n",
       "      <td>3.0</td>\n",
       "      <td>86</td>\n",
       "      <td>[]</td>\n",
       "      <td>https://www.yelp.com/biz/montes-restaurant-lyn...</td>\n",
       "      <td>2019-03-10T22:45:17.656Z</td>\n",
       "      <td>8.176471</td>\n",
       "      <td>51</td>\n",
       "      <td>417.0</td>\n",
       "      <td>8.14</td>\n",
       "      <td>50</td>\n",
       "      <td>407.0</td>\n",
       "      <td>0.0</td>\n",
       "      <td>0</td>\n",
       "      <td>0.0</td>\n",
       "      <td>10.0</td>\n",
       "      <td>1</td>\n",
       "      <td>10.0</td>\n",
       "      <td>montes-restaurant-lynn-ma-5c6d4969</td>\n",
       "      <td>MA</td>\n",
       "      <td>America/New_York</td>\n",
       "      <td>RESTAURANT</td>\n",
       "      <td>1902.0</td>\n",
       "      <td>141 Eastern Ave, Lynn,US</td>\n",
       "      <td>ROOFTOP</td>\n",
       "      <td>141 Eastern Ave, Lynn, MA 01902, USA</td>\n",
       "      <td>ChIJacqLVrds44kROMfvHVc4-9k</td>\n",
       "      <td>141 Eastern Ave, Lynn,US</td>\n",
       "      <td>42.472084</td>\n",
       "      <td>-70.925399</td>\n",
       "      <td>1</td>\n",
       "      <td>1902.0</td>\n",
       "      <td>NaN</td>\n",
       "      <td>[{'address_components': [{'long_name': '141', ...</td>\n",
       "      <td>OK</td>\n",
       "      <td>OK</td>\n",
       "      <td>premise</td>\n",
       "      <td>Monte's Restaurant | Dave - 10.0 | Community -...</td>\n",
       "      <td>100</td>\n",
       "    </tr>\n",
       "  </tbody>\n",
       "</table>\n",
       "</div>"
      ],
      "text/plain": [
       "         _distance         address1 address2  \\\n",
       "286  291271.444717  141 Eastern Ave      NaN   \n",
       "\n",
       "                                            categories  city country  \\\n",
       "286  [{'alias': 'pizza', 'title': 'Pizza'}, {'alias...  Lynn      US   \n",
       "\n",
       "                    createdAt  deleted  featuredMedia.__t  featuredMedia.__v  \\\n",
       "286  2018-04-16T20:16:08.314Z    False                NaN                NaN   \n",
       "\n",
       "     featuredMedia._id             featuredMedia.assetId  \\\n",
       "286                NaN  Q9owmMXbbO9an4Ba528OBaiiuFWo4kva   \n",
       "\n",
       "      featuredMedia.createdAt  featuredMedia.deleted  \\\n",
       "286  2018-07-26T16:51:09.046Z                  False   \n",
       "\n",
       "                         featuredMedia.id featuredMedia.metadata.aspectRatio  \\\n",
       "286  031ed0d6-76ad-4877-9527-6d2802768614                               16:9   \n",
       "\n",
       "     featuredMedia.metadata.duration  featuredMedia.metadata.frameRate  \\\n",
       "286                          202.325                              30.0   \n",
       "\n",
       "    featuredMedia.metadata.resolution  featuredMedia.modifiedAt  \\\n",
       "286                                SD  2018-07-26T16:53:00.342Z   \n",
       "\n",
       "                featuredMedia.playbackId  \\\n",
       "286  NsF8H3Bq01rIa1fMmfM00hQStcdy01NgufG   \n",
       "\n",
       "                   featuredMedia.reviewId  \\\n",
       "286  bc807434-54d5-43df-9c5e-42d826c8e9f8   \n",
       "\n",
       "                               featuredMedia.sourceUrl featuredMedia.status  \\\n",
       "286  https://s3.amazonaws.com/one-bite-media-prod/2...                READY   \n",
       "\n",
       "                             featuredMedia.streams.hls  \\\n",
       "286  https://stream.mux.com/NsF8H3Bq01rIa1fMmfM00hQ...   \n",
       "\n",
       "                             featuredMedia.streams.mp4  \\\n",
       "286  https://s3.amazonaws.com/one-bite-media-prod/2...   \n",
       "\n",
       "                        featuredMedia.thumbnails.large  \\\n",
       "286  https://image.mux.com/NsF8H3Bq01rIa1fMmfM00hQS...   \n",
       "\n",
       "                       featuredMedia.thumbnails.medium  \\\n",
       "286  https://image.mux.com/NsF8H3Bq01rIa1fMmfM00hQS...   \n",
       "\n",
       "                        featuredMedia.thumbnails.small featuredMedia.type  \\\n",
       "286  https://image.mux.com/NsF8H3Bq01rIa1fMmfM00hQS...              VIDEO   \n",
       "\n",
       "    featuredMedia.user                                    id  \\\n",
       "286                NaN  5c6d4969-ffe7-4ae3-b657-8b77f15e28b6   \n",
       "\n",
       "                                              imageUrl        loc.coordinates  \\\n",
       "286  https://s3-media2.fl.yelpcdn.com/bphoto/gciaao...  [-70.92541, 42.47205]   \n",
       "\n",
       "    loc.type                modifiedAt                name openHours  \\\n",
       "286    Point  2019-03-18T06:46:03.187Z  Monte's Restaurant        []   \n",
       "\n",
       "     orderProvider orderProvider.checkoutUrl  orderProvider.internalId  \\\n",
       "286            NaN                       NaN                       NaN   \n",
       "\n",
       "    orderProvider.logo orderProvider.name   phoneNumber photos  \\\n",
       "286                NaN                NaN  1.781599e+10     []   \n",
       "\n",
       "                    placeId  priceLevel  providerRating  providerReviewCount  \\\n",
       "286  F43SpX2oyiTI8waE0zNrPQ           1             3.0                   86   \n",
       "\n",
       "    providerTransactions                                        providerUrl  \\\n",
       "286                   []  https://www.yelp.com/biz/montes-restaurant-lyn...   \n",
       "\n",
       "                  refreshDate  reviewStats.all.averageScore  \\\n",
       "286  2019-03-10T22:45:17.656Z                      8.176471   \n",
       "\n",
       "     reviewStats.all.count  reviewStats.all.totalScore  \\\n",
       "286                     51                       417.0   \n",
       "\n",
       "     reviewStats.community.averageScore  reviewStats.community.count  \\\n",
       "286                                8.14                           50   \n",
       "\n",
       "     reviewStats.community.totalScore  reviewStats.critic.averageScore  \\\n",
       "286                             407.0                              0.0   \n",
       "\n",
       "     reviewStats.critic.count  reviewStats.critic.totalScore  \\\n",
       "286                         0                            0.0   \n",
       "\n",
       "     reviewStats.dave.averageScore  reviewStats.dave.count  \\\n",
       "286                           10.0                       1   \n",
       "\n",
       "     reviewStats.dave.totalScore                                slug state  \\\n",
       "286                         10.0  montes-restaurant-lynn-ma-5c6d4969    MA   \n",
       "\n",
       "             timeZone        type     zip             address_total accuracy  \\\n",
       "286  America/New_York  RESTAURANT  1902.0  141 Eastern Ave, Lynn,US  ROOFTOP   \n",
       "\n",
       "                        formatted_address              google_place_id  \\\n",
       "286  141 Eastern Ave, Lynn, MA 01902, USA  ChIJacqLVrds44kROMfvHVc4-9k   \n",
       "\n",
       "                 input_string   latitude  longitude  number_of_results  \\\n",
       "286  141 Eastern Ave, Lynn,US  42.472084 -70.925399                  1   \n",
       "\n",
       "     postcode response.error_message  \\\n",
       "286    1902.0                    NaN   \n",
       "\n",
       "                                      response.results response.status status  \\\n",
       "286  [{'address_components': [{'long_name': '141', ...              OK     OK   \n",
       "\n",
       "      type.1                                      string_concat  \\\n",
       "286  premise  Monte's Restaurant | Dave - 10.0 | Community -...   \n",
       "\n",
       "     dave_score_int  \n",
       "286             100  "
      ]
     },
     "execution_count": 38,
     "metadata": {},
     "output_type": "execute_result"
    }
   ],
   "source": [
    "pd.set_option('display.max_columns', 100)\n",
    "pizza_df[pizza_df['city'] == \"Lynn\"]"
   ]
  },
  {
   "cell_type": "code",
   "execution_count": 40,
   "metadata": {},
   "outputs": [],
   "source": [
    "pizza_df['review_number'] = pizza_df.index"
   ]
  },
  {
   "cell_type": "code",
   "execution_count": 43,
   "metadata": {},
   "outputs": [],
   "source": [
    "pizza_df.to_csv(\"pizza_data.csv\", index=False)"
   ]
  }
 ],
 "metadata": {
  "kernelspec": {
   "display_name": "Python 3",
   "language": "python",
   "name": "python3"
  },
  "language_info": {
   "codemirror_mode": {
    "name": "ipython",
    "version": 3
   },
   "file_extension": ".py",
   "mimetype": "text/x-python",
   "name": "python",
   "nbconvert_exporter": "python",
   "pygments_lexer": "ipython3",
   "version": "3.7.0"
  }
 },
 "nbformat": 4,
 "nbformat_minor": 2
}
